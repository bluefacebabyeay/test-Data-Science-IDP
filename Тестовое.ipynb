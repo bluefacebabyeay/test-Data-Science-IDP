{
 "cells": [
  {
   "cell_type": "code",
   "execution_count": 1,
   "id": "7e55ccea-c887-45a6-baa0-c28ab8568c06",
   "metadata": {},
   "outputs": [],
   "source": [
    "import pandas as pd\n",
    "import glob\n",
    "import os\n",
    "import matplotlib.pyplot as plt\n",
    "import numpy as np"
   ]
  },
  {
   "cell_type": "markdown",
   "id": "506e1c92-5923-4f60-9d0f-ed5b593a6800",
   "metadata": {},
   "source": [
    "# **Тестовое задание для стажеров в команду Data Science IDP**"
   ]
  },
  {
   "cell_type": "markdown",
   "id": "30b937f3-bcc2-4f87-b3a1-d242a8f4293f",
   "metadata": {},
   "source": [
    "## Задание 1\n",
    "Опишите задачу с точки зрения NLP. Что это за задача, какие классические методы существуют для ее решения? Как ее можно решать через LLM? Как обычно оценивают качество моделей в этой задаче?"
   ]
  },
  {
   "cell_type": "markdown",
   "id": "bcd8e17c-3401-4eb5-947e-dcd503fe4873",
   "metadata": {},
   "source": [
    "Рассматривается задача NER из NLP: поиск сущностей в заданном тексте. В данной работе встречаются следующие сущности: \n",
    "- **PER** (Person) — имена людей;\n",
    "- **ORG** (Organization) — названия организаций;\n",
    "- **LOC** (Location) — географические объекты;\n",
    "- **EVT** (Event) — названия событий;\n",
    "- **PRO** (Product) — названия продуктов;\n",
    "\n",
    "С помощью LLM ее можно решать в виде корректировки промта и собственно загрузки промта в LLM, либо же с помощью файнтюнинга на данных. \n",
    "\n",
    "Классически используемые метрики в такой задаче это presicion, recall, F1, поскольку они в целом отражают то, как модель решила задачу"
   ]
  },
  {
   "cell_type": "markdown",
   "id": "0c7f2b26-ba1b-4c38-b5ba-a8ab82905d2e",
   "metadata": {},
   "source": [
    "## Задание 2\n",
    "Реализуйте чтение датасета в pandas DataFrame с обязательными колонками \"document_id\", \"document_text\", \"entity\", \"gold_answer\". Выведите шапку датафрейма."
   ]
  },
  {
   "cell_type": "markdown",
   "id": "c3a4f988-2d47-467c-869a-8a7c00d06983",
   "metadata": {},
   "source": [
    "Для этого подгрузим все файлы с заданного сайта в директорий, получим их имена, прогоним цикл по ним, чтобы выделить основную нужную информацию из файла: отрезаем часть строк в начале, которые не несут для нас необходимой информации, в файлах out аккуратно работаем с gold_answer, берем форму уже нормализованную, а не как она встречается в тексте"
   ]
  },
  {
   "cell_type": "code",
   "execution_count": 8,
   "id": "d27285e3-5a23-409e-896c-504435e91b02",
   "metadata": {},
   "outputs": [
    {
     "data": {
      "text/html": [
       "<div>\n",
       "<style scoped>\n",
       "    .dataframe tbody tr th:only-of-type {\n",
       "        vertical-align: middle;\n",
       "    }\n",
       "\n",
       "    .dataframe tbody tr th {\n",
       "        vertical-align: top;\n",
       "    }\n",
       "\n",
       "    .dataframe thead th {\n",
       "        text-align: right;\n",
       "    }\n",
       "</style>\n",
       "<table border=\"1\" class=\"dataframe\">\n",
       "  <thead>\n",
       "    <tr style=\"text-align: right;\">\n",
       "      <th></th>\n",
       "      <th>document_id</th>\n",
       "      <th>document_text</th>\n",
       "      <th>entity</th>\n",
       "      <th>gold_answer</th>\n",
       "    </tr>\n",
       "  </thead>\n",
       "  <tbody>\n",
       "    <tr>\n",
       "      <th>0</th>\n",
       "      <td>brexit_ru.txt_file_10</td>\n",
       "      <td>Тереза Мэй рассчитывает усидеть в седле до зав...</td>\n",
       "      <td>EVT</td>\n",
       "      <td>Brexit</td>\n",
       "    </tr>\n",
       "    <tr>\n",
       "      <th>1</th>\n",
       "      <td>brexit_ru.txt_file_10</td>\n",
       "      <td>Тереза Мэй рассчитывает усидеть в седле до зав...</td>\n",
       "      <td>LOC</td>\n",
       "      <td>Альбион</td>\n",
       "    </tr>\n",
       "    <tr>\n",
       "      <th>2</th>\n",
       "      <td>brexit_ru.txt_file_10</td>\n",
       "      <td>Тереза Мэй рассчитывает усидеть в седле до зав...</td>\n",
       "      <td>LOC</td>\n",
       "      <td>Альбион</td>\n",
       "    </tr>\n",
       "    <tr>\n",
       "      <th>3</th>\n",
       "      <td>brexit_ru.txt_file_10</td>\n",
       "      <td>Тереза Мэй рассчитывает усидеть в седле до зав...</td>\n",
       "      <td>PER</td>\n",
       "      <td>Борис Джонсон</td>\n",
       "    </tr>\n",
       "    <tr>\n",
       "      <th>4</th>\n",
       "      <td>brexit_ru.txt_file_10</td>\n",
       "      <td>Тереза Мэй рассчитывает усидеть в седле до зав...</td>\n",
       "      <td>LOC</td>\n",
       "      <td>Британия</td>\n",
       "    </tr>\n",
       "  </tbody>\n",
       "</table>\n",
       "</div>"
      ],
      "text/plain": [
       "             document_id                                      document_text  \\\n",
       "0  brexit_ru.txt_file_10  Тереза Мэй рассчитывает усидеть в седле до зав...   \n",
       "1  brexit_ru.txt_file_10  Тереза Мэй рассчитывает усидеть в седле до зав...   \n",
       "2  brexit_ru.txt_file_10  Тереза Мэй рассчитывает усидеть в седле до зав...   \n",
       "3  brexit_ru.txt_file_10  Тереза Мэй рассчитывает усидеть в седле до зав...   \n",
       "4  brexit_ru.txt_file_10  Тереза Мэй рассчитывает усидеть в седле до зав...   \n",
       "\n",
       "  entity    gold_answer  \n",
       "0    EVT         Brexit  \n",
       "1    LOC        Альбион  \n",
       "2    LOC        Альбион  \n",
       "3    PER  Борис Джонсон  \n",
       "4    LOC       Британия  "
      ]
     },
     "execution_count": 8,
     "metadata": {},
     "output_type": "execute_result"
    }
   ],
   "source": [
    "txt_files = sorted(glob.glob(\"brexit_ru.txt_file_*.txt\"))\n",
    "doc_ids = [os.path.splitext(os.path.basename(f))[0] for f in txt_files]\n",
    "\n",
    "records = []\n",
    "for doc_id in doc_ids:\n",
    "    with open(f\"{doc_id}.txt\", encoding='utf-8') as f:\n",
    "        lines = f.read().splitlines()\n",
    "    document_text = \"\".join(lines[4:]).strip() # Пропуск ненужных строк\n",
    "\n",
    "    out_file = f\"{doc_id}.out\" # Файл с gold_answer\n",
    "    with open(out_file, encoding='utf-8') as f:\n",
    "        lines = f.read().splitlines()[1:]  # Пропускаем заголовок\n",
    "\n",
    "    for line in lines:\n",
    "        parts = line.split('\\t')\n",
    "        if len(parts) < 3:\n",
    "            continue\n",
    "        surface, normal, entity_type = parts[:3]\n",
    "        records.append({\n",
    "            'document_id': doc_id,\n",
    "            'document_text': document_text,\n",
    "            'entity': entity_type,\n",
    "            'gold_answer': normal.strip()\n",
    "        })\n",
    "\n",
    "df = pd.DataFrame(records)\n",
    "df.head()"
   ]
  },
  {
   "cell_type": "code",
   "execution_count": 10,
   "id": "e26e1eb4-5748-4e6e-8ad1-68fa4b00eac9",
   "metadata": {},
   "outputs": [
    {
     "data": {
      "text/plain": [
       "document_id      0\n",
       "document_text    0\n",
       "entity           0\n",
       "gold_answer      0\n",
       "dtype: int64"
      ]
     },
     "execution_count": 10,
     "metadata": {},
     "output_type": "execute_result"
    }
   ],
   "source": [
    "df.isna().sum() # Проверим что в файле нет пропусков"
   ]
  },
  {
   "cell_type": "code",
   "execution_count": 12,
   "id": "973b5bc8-8227-4d80-8e79-6c0101e00c25",
   "metadata": {},
   "outputs": [
    {
     "name": "stdout",
     "output_type": "stream",
     "text": [
      "После группировки строк: 40\n"
     ]
    },
    {
     "data": {
      "text/html": [
       "<div>\n",
       "<style scoped>\n",
       "    .dataframe tbody tr th:only-of-type {\n",
       "        vertical-align: middle;\n",
       "    }\n",
       "\n",
       "    .dataframe tbody tr th {\n",
       "        vertical-align: top;\n",
       "    }\n",
       "\n",
       "    .dataframe thead th {\n",
       "        text-align: right;\n",
       "    }\n",
       "</style>\n",
       "<table border=\"1\" class=\"dataframe\">\n",
       "  <thead>\n",
       "    <tr style=\"text-align: right;\">\n",
       "      <th></th>\n",
       "      <th>document_id</th>\n",
       "      <th>entity</th>\n",
       "      <th>document_text</th>\n",
       "      <th>gold_answers</th>\n",
       "    </tr>\n",
       "  </thead>\n",
       "  <tbody>\n",
       "    <tr>\n",
       "      <th>0</th>\n",
       "      <td>brexit_ru.txt_file_10</td>\n",
       "      <td>EVT</td>\n",
       "      <td>Тереза Мэй рассчитывает усидеть в седле до зав...</td>\n",
       "      <td>[Brexit, брекзит, брексит]</td>\n",
       "    </tr>\n",
       "    <tr>\n",
       "      <th>1</th>\n",
       "      <td>brexit_ru.txt_file_10</td>\n",
       "      <td>LOC</td>\n",
       "      <td>Тереза Мэй рассчитывает усидеть в седле до зав...</td>\n",
       "      <td>[Альбион, Британия, Брюссель, Европа, Ла-Манш,...</td>\n",
       "    </tr>\n",
       "    <tr>\n",
       "      <th>2</th>\n",
       "      <td>brexit_ru.txt_file_10</td>\n",
       "      <td>ORG</td>\n",
       "      <td>Тереза Мэй рассчитывает усидеть в седле до зав...</td>\n",
       "      <td>[ЕС, Еврокомиссия, Европейский, Евросоюз, Конс...</td>\n",
       "    </tr>\n",
       "    <tr>\n",
       "      <th>3</th>\n",
       "      <td>brexit_ru.txt_file_10</td>\n",
       "      <td>PER</td>\n",
       "      <td>Тереза Мэй рассчитывает усидеть в седле до зав...</td>\n",
       "      <td>[Борис Джонсон, Джонсон, Мишель Барнье, Мэй, С...</td>\n",
       "    </tr>\n",
       "    <tr>\n",
       "      <th>4</th>\n",
       "      <td>brexit_ru.txt_file_1000</td>\n",
       "      <td>EVT</td>\n",
       "      <td>Подробности.ua: Третий за сутки: Борис Джонсон...</td>\n",
       "      <td>[Brexit]</td>\n",
       "    </tr>\n",
       "  </tbody>\n",
       "</table>\n",
       "</div>"
      ],
      "text/plain": [
       "               document_id entity  \\\n",
       "0    brexit_ru.txt_file_10    EVT   \n",
       "1    brexit_ru.txt_file_10    LOC   \n",
       "2    brexit_ru.txt_file_10    ORG   \n",
       "3    brexit_ru.txt_file_10    PER   \n",
       "4  brexit_ru.txt_file_1000    EVT   \n",
       "\n",
       "                                       document_text  \\\n",
       "0  Тереза Мэй рассчитывает усидеть в седле до зав...   \n",
       "1  Тереза Мэй рассчитывает усидеть в седле до зав...   \n",
       "2  Тереза Мэй рассчитывает усидеть в седле до зав...   \n",
       "3  Тереза Мэй рассчитывает усидеть в седле до зав...   \n",
       "4  Подробности.ua: Третий за сутки: Борис Джонсон...   \n",
       "\n",
       "                                        gold_answers  \n",
       "0                         [Brexit, брекзит, брексит]  \n",
       "1  [Альбион, Британия, Брюссель, Европа, Ла-Манш,...  \n",
       "2  [ЕС, Еврокомиссия, Европейский, Евросоюз, Конс...  \n",
       "3  [Борис Джонсон, Джонсон, Мишель Барнье, Мэй, С...  \n",
       "4                                           [Brexit]  "
      ]
     },
     "execution_count": 12,
     "metadata": {},
     "output_type": "execute_result"
    }
   ],
   "source": [
    "# Группируем датасет для получения всех ответов по каждой сущности\n",
    "df_grouped = (\n",
    "    df.groupby(['document_id', 'entity'])\n",
    "    .agg(\n",
    "        document_text=('document_text', 'first'),      \n",
    "        gold_answers=('gold_answer', lambda lst: sorted(set(lst)))\n",
    "    )\n",
    "    .reset_index())\n",
    "\n",
    "print(\"После группировки строк:\", len(df_grouped))\n",
    "df_grouped.head()"
   ]
  },
  {
   "cell_type": "markdown",
   "id": "5554664b-0526-43c7-baac-8c3b760756de",
   "metadata": {},
   "source": [
    "## Задание 3\n",
    "Напишите функцию, которая принимает на вход строку датафрейма и выдает текст входного сообщения для LLM."
   ]
  },
  {
   "cell_type": "markdown",
   "id": "1ff1aa00-96b1-4b82-bb73-3338fe1fe07a",
   "metadata": {},
   "source": [
    "После пробы нескольких промтов, был получен следующий промт, функция достаточно легкая и не нуждается в объяснении"
   ]
  },
  {
   "cell_type": "code",
   "execution_count": 16,
   "id": "ac889796-4f66-41cc-addd-2ea9b5a46a7e",
   "metadata": {},
   "outputs": [],
   "source": [
    "def make_prompt_for_doc(doc_id: str, df: pd.DataFrame) -> str:\n",
    "    sub = df[df['document_id'] == doc_id]\n",
    "    text = sub['document_text'].iloc[0]\n",
    "    types = sorted(sub['entity'].unique())\n",
    "    types_str = ', '.join(types)\n",
    "    prompt = (\n",
    "        f\"Документ ID: {doc_id}\\n\\n\"\n",
    "        f\"Текст новости:\\n{text}\\n\\n\"\n",
    "        f\"Задача: извлечь из этого текста все именованные сущности следующих типов:\\n\"\n",
    "        f\"{types_str}.\\n\\n\"\n",
    "        \"Пожалуйста, верните результат в виде списка или таблицы с двумя колонками:\\n\"\n",
    "        \"1) Тип сущности\\n\"\n",
    "        \"2) Сам список сущностей\\n\"\n",
    "        \"Должна получиться таблица длиной в количество сущностей и в каждой из них список всех сущностей.\"\n",
    "        \"Формируй краткие и односложные ответы, без подробностей. Например, вместо Процедура Brexit пиши просто Brexit\"\n",
    "    )\n",
    "    return prompt"
   ]
  },
  {
   "cell_type": "code",
   "execution_count": 18,
   "id": "5b905edc-fa03-4dd7-a89a-6a425f4fe366",
   "metadata": {},
   "outputs": [
    {
     "data": {
      "text/plain": [
       "'brexit_ru.txt_file_1004'"
      ]
     },
     "execution_count": 18,
     "metadata": {},
     "output_type": "execute_result"
    }
   ],
   "source": [
    "docs = list(set(df_grouped['document_id'])) # Получаем список названий для удобного получения промтов\n",
    "docs[1]"
   ]
  },
  {
   "cell_type": "markdown",
   "id": "31c83cc3-2d2b-4f3d-9fdd-64b9482377b6",
   "metadata": {},
   "source": [
    "Тут банальным перебором индексов получаем все промты, необходимые для загрузки их в GigaChat"
   ]
  },
  {
   "cell_type": "code",
   "execution_count": 21,
   "id": "ed4c780b-fcdb-46e4-aa99-6372984e28b9",
   "metadata": {},
   "outputs": [
    {
     "name": "stdout",
     "output_type": "stream",
     "text": [
      "Документ ID: brexit_ru.txt_file_1001\n",
      "\n",
      "Текст новости:\n",
      "Глава МИД Британии Борис Джонсон подал в отставкуМинистр иностранных дел Великобритании Борис Джонсон ушел в отставку. Об этом сообщает Associated Press. Премьер-министр Тереза Мэй приняла отставку Джонсона. \"Премьер поблагодарила Бориса за работу. О том, кто станет новым министром, будет объявлено в ближайшее время\", - сообщили также в канцелярии премьера.Ранее Мэй пообещала отправить в отставку Джонсона, если он откажется принять ее позицию по плавному выходу из Евросоюза. Напомним, что Джонсон является сторонником жесткого Brexit . Он уверен, что план Мэй, который подразумевает создание зоны свободной торговли с ЕС, сохранит зависимость Соединенного Королевства от Евросоюза.\n",
      "\n",
      "Задача: извлечь из этого текста все именованные сущности следующих типов:\n",
      "EVT, LOC, ORG, PER.\n",
      "\n",
      "Пожалуйста, верните результат в виде списка или таблицы с двумя колонками:\n",
      "1) Тип сущности\n",
      "2) Сам список сущностей\n",
      "Должна получиться таблица длиной в количество сущностей и в каждой из них список всех сущностей.Формируй краткие и односложные ответы, без подробностей. Например, вместо Процедура Brexit пиши просто Brexit\n"
     ]
    }
   ],
   "source": [
    "doc_id = 'brexit_ru.txt_file_10'\n",
    "prompt = make_prompt_for_doc(docs[8], df_grouped)\n",
    "print(prompt)"
   ]
  },
  {
   "cell_type": "markdown",
   "id": "fc9520a8-f483-4fdf-a23a-6f01b599ab61",
   "metadata": {},
   "source": [
    "## Задание 4\n",
    "Получите ответы GigaChat для всех документов. Документов всего 9, поэтому сделать это можно вручную, пользуясь веб-интерфейсом GigaChat или ботом в ВК или Телеграме. Не очищайте историю сообщений, чтобы потом продемонстрировать подлинность ответов на онлайн-собеседовании.\n",
    "Внесите ответы GigaChat в датафрейм, сохраните его."
   ]
  },
  {
   "cell_type": "markdown",
   "id": "6971d625-3992-4ca6-8975-c1b0a01a8d2c",
   "metadata": {},
   "source": [
    "Вставляем каждый промт в диалог и копируем оттуда ответы, итоговые результаты прикреплены в файле в директории. Аккуратно добавляем их к полному датасету, чтобы получить хороший итоговый вид, пригодный для дальнейшего построения метрик"
   ]
  },
  {
   "cell_type": "code",
   "execution_count": 25,
   "id": "d1561a6c-54da-4426-9a6b-238e77e5148b",
   "metadata": {},
   "outputs": [
    {
     "data": {
      "text/html": [
       "<div>\n",
       "<style scoped>\n",
       "    .dataframe tbody tr th:only-of-type {\n",
       "        vertical-align: middle;\n",
       "    }\n",
       "\n",
       "    .dataframe tbody tr th {\n",
       "        vertical-align: top;\n",
       "    }\n",
       "\n",
       "    .dataframe thead th {\n",
       "        text-align: right;\n",
       "    }\n",
       "</style>\n",
       "<table border=\"1\" class=\"dataframe\">\n",
       "  <thead>\n",
       "    <tr style=\"text-align: right;\">\n",
       "      <th></th>\n",
       "      <th>document_id</th>\n",
       "      <th>entity</th>\n",
       "      <th>ans</th>\n",
       "    </tr>\n",
       "  </thead>\n",
       "  <tbody>\n",
       "    <tr>\n",
       "      <th>0</th>\n",
       "      <td>brexit_ru.txt_file_10</td>\n",
       "      <td>EVT</td>\n",
       "      <td>Brexit, Конференция партии тори, Саммит Евросо...</td>\n",
       "    </tr>\n",
       "    <tr>\n",
       "      <th>1</th>\n",
       "      <td>brexit_ru.txt_file_10</td>\n",
       "      <td>LOC</td>\n",
       "      <td>Великобритания, Северная Ирландия, Лондон, Аль...</td>\n",
       "    </tr>\n",
       "    <tr>\n",
       "      <th>2</th>\n",
       "      <td>brexit_ru.txt_file_10</td>\n",
       "      <td>ORG</td>\n",
       "      <td>Партия тори, МОТ, МВФ, Еврокомиссия, Европейск...</td>\n",
       "    </tr>\n",
       "    <tr>\n",
       "      <th>3</th>\n",
       "      <td>brexit_ru.txt_file_10</td>\n",
       "      <td>PER</td>\n",
       "      <td>Тереза Мэй, Борис Джонсон, Мишель Барнье, Себа...</td>\n",
       "    </tr>\n",
       "    <tr>\n",
       "      <th>4</th>\n",
       "      <td>brexit_ru.txt_file_1003</td>\n",
       "      <td>EVT</td>\n",
       "      <td>Отставка Бориса Джонсона</td>\n",
       "    </tr>\n",
       "  </tbody>\n",
       "</table>\n",
       "</div>"
      ],
      "text/plain": [
       "               document_id entity  \\\n",
       "0    brexit_ru.txt_file_10    EVT   \n",
       "1    brexit_ru.txt_file_10    LOC   \n",
       "2    brexit_ru.txt_file_10    ORG   \n",
       "3    brexit_ru.txt_file_10    PER   \n",
       "4  brexit_ru.txt_file_1003    EVT   \n",
       "\n",
       "                                                 ans  \n",
       "0  Brexit, Конференция партии тори, Саммит Евросо...  \n",
       "1  Великобритания, Северная Ирландия, Лондон, Аль...  \n",
       "2  Партия тори, МОТ, МВФ, Еврокомиссия, Европейск...  \n",
       "3  Тереза Мэй, Борис Джонсон, Мишель Барнье, Себа...  \n",
       "4                           Отставка Бориса Джонсона  "
      ]
     },
     "execution_count": 25,
     "metadata": {},
     "output_type": "execute_result"
    }
   ],
   "source": [
    "data = pd.read_excel('pred2.xlsx')\n",
    "data.head()"
   ]
  },
  {
   "cell_type": "code",
   "execution_count": 27,
   "id": "04dd779e-c2fe-4f13-90dd-df5267440767",
   "metadata": {},
   "outputs": [
    {
     "data": {
      "text/html": [
       "<div>\n",
       "<style scoped>\n",
       "    .dataframe tbody tr th:only-of-type {\n",
       "        vertical-align: middle;\n",
       "    }\n",
       "\n",
       "    .dataframe tbody tr th {\n",
       "        vertical-align: top;\n",
       "    }\n",
       "\n",
       "    .dataframe thead th {\n",
       "        text-align: right;\n",
       "    }\n",
       "</style>\n",
       "<table border=\"1\" class=\"dataframe\">\n",
       "  <thead>\n",
       "    <tr style=\"text-align: right;\">\n",
       "      <th></th>\n",
       "      <th>document_id</th>\n",
       "      <th>entity</th>\n",
       "      <th>document_text</th>\n",
       "      <th>gold_answers</th>\n",
       "      <th>ans</th>\n",
       "    </tr>\n",
       "  </thead>\n",
       "  <tbody>\n",
       "    <tr>\n",
       "      <th>0</th>\n",
       "      <td>brexit_ru.txt_file_10</td>\n",
       "      <td>EVT</td>\n",
       "      <td>Тереза Мэй рассчитывает усидеть в седле до зав...</td>\n",
       "      <td>[Brexit, брекзит, брексит]</td>\n",
       "      <td>[Brexit, Конференция партии тори, Саммит Еврос...</td>\n",
       "    </tr>\n",
       "    <tr>\n",
       "      <th>1</th>\n",
       "      <td>brexit_ru.txt_file_10</td>\n",
       "      <td>LOC</td>\n",
       "      <td>Тереза Мэй рассчитывает усидеть в седле до зав...</td>\n",
       "      <td>[Альбион, Британия, Брюссель, Европа, Ла-Манш,...</td>\n",
       "      <td>[Великобритания, Северная Ирландия, Лондон, Ал...</td>\n",
       "    </tr>\n",
       "    <tr>\n",
       "      <th>2</th>\n",
       "      <td>brexit_ru.txt_file_10</td>\n",
       "      <td>ORG</td>\n",
       "      <td>Тереза Мэй рассчитывает усидеть в седле до зав...</td>\n",
       "      <td>[ЕС, Еврокомиссия, Европейский, Евросоюз, Конс...</td>\n",
       "      <td>[Партия тори, МОТ, МВФ, Еврокомиссия, Европейс...</td>\n",
       "    </tr>\n",
       "    <tr>\n",
       "      <th>3</th>\n",
       "      <td>brexit_ru.txt_file_10</td>\n",
       "      <td>PER</td>\n",
       "      <td>Тереза Мэй рассчитывает усидеть в седле до зав...</td>\n",
       "      <td>[Борис Джонсон, Джонсон, Мишель Барнье, Мэй, С...</td>\n",
       "      <td>[Тереза Мэй, Борис Джонсон, Мишель Барнье, Себ...</td>\n",
       "    </tr>\n",
       "    <tr>\n",
       "      <th>4</th>\n",
       "      <td>brexit_ru.txt_file_1000</td>\n",
       "      <td>EVT</td>\n",
       "      <td>Подробности.ua: Третий за сутки: Борис Джонсон...</td>\n",
       "      <td>[Brexit]</td>\n",
       "      <td>[Отставка Бориса Джонсона, Отставка Дэвида Дэв...</td>\n",
       "    </tr>\n",
       "  </tbody>\n",
       "</table>\n",
       "</div>"
      ],
      "text/plain": [
       "               document_id entity  \\\n",
       "0    brexit_ru.txt_file_10    EVT   \n",
       "1    brexit_ru.txt_file_10    LOC   \n",
       "2    brexit_ru.txt_file_10    ORG   \n",
       "3    brexit_ru.txt_file_10    PER   \n",
       "4  brexit_ru.txt_file_1000    EVT   \n",
       "\n",
       "                                       document_text  \\\n",
       "0  Тереза Мэй рассчитывает усидеть в седле до зав...   \n",
       "1  Тереза Мэй рассчитывает усидеть в седле до зав...   \n",
       "2  Тереза Мэй рассчитывает усидеть в седле до зав...   \n",
       "3  Тереза Мэй рассчитывает усидеть в седле до зав...   \n",
       "4  Подробности.ua: Третий за сутки: Борис Джонсон...   \n",
       "\n",
       "                                        gold_answers  \\\n",
       "0                         [Brexit, брекзит, брексит]   \n",
       "1  [Альбион, Британия, Брюссель, Европа, Ла-Манш,...   \n",
       "2  [ЕС, Еврокомиссия, Европейский, Евросоюз, Конс...   \n",
       "3  [Борис Джонсон, Джонсон, Мишель Барнье, Мэй, С...   \n",
       "4                                           [Brexit]   \n",
       "\n",
       "                                                 ans  \n",
       "0  [Brexit, Конференция партии тори, Саммит Еврос...  \n",
       "1  [Великобритания, Северная Ирландия, Лондон, Ал...  \n",
       "2  [Партия тори, МОТ, МВФ, Еврокомиссия, Европейс...  \n",
       "3  [Тереза Мэй, Борис Джонсон, Мишель Барнье, Себ...  \n",
       "4  [Отставка Бориса Джонсона, Отставка Дэвида Дэв...  "
      ]
     },
     "execution_count": 27,
     "metadata": {},
     "output_type": "execute_result"
    }
   ],
   "source": [
    "req_col = ['document_id', 'entity']\n",
    "df_grouped = df_grouped.merge(\n",
    "    data,\n",
    "    on=req_col,\n",
    "    how='left'\n",
    ")\n",
    "df_grouped['ans'] = df_grouped['ans'].str.split(', ') # Разделяем на список, так как изначально это все просто строка\n",
    "df_grouped.head()"
   ]
  },
  {
   "cell_type": "markdown",
   "id": "4cb81c9d-0860-4291-9649-cf76f904f12a",
   "metadata": {},
   "source": [
    "## Задание 5\n",
    "Реализуйте самостоятельно алгоритм для подсчета метрик score_fn(gold: str, pred: str) → float. Можно пользоваться только библиотеками numpy, scipy, pandas. Напишите юнит-тесты. Возможно ли ускорить вычисление функции через векторную реализацию? Поясните решение и обоснуйте, почему выбрали именно такую метрику.\n"
   ]
  },
  {
   "cell_type": "markdown",
   "id": "342ebb13-a7bf-43d4-a6e9-5acfba311da2",
   "metadata": {},
   "source": [
    "Я решил реализовать F1 меру, поскольку она хорошо отражает результат, учитывая и точность и полноту. Также она выдает флоат значение, а не бинарные 0 и 1. О ее проблемах - в пунктах дальше. Через векторную реализацию ускорить решение практически не выйдет из-за того что идет работа со строками, а не массивом чисел. "
   ]
  },
  {
   "cell_type": "code",
   "execution_count": 31,
   "id": "cf33594d-d37a-4c16-bc4e-ccbd6d66dfb7",
   "metadata": {},
   "outputs": [],
   "source": [
    "def score_fn(gold: list[str], pred: list[str]) -> float:\n",
    "    gold_clean = {g.lower() for g in gold if gold}\n",
    "    pred_clean = {p.lower() for p in pred if pred}\n",
    "    set_gold = set(gold_clean)\n",
    "    set_pred = set(pred_clean)\n",
    "\n",
    "    tp = len(set_gold & set_pred)\n",
    "    precision = tp / len(set_pred)\n",
    "    recall    = tp / len(set_gold)\n",
    "    # F1\n",
    "    if precision + recall == 0:\n",
    "        return 0.0\n",
    "    return 2 * precision * recall / (precision + recall)"
   ]
  },
  {
   "cell_type": "code",
   "execution_count": 33,
   "id": "f6a9cd2b-c621-4689-a5e8-39591495ab21",
   "metadata": {},
   "outputs": [
    {
     "name": "stdout",
     "output_type": "stream",
     "text": [
      "Все прошло\n"
     ]
    }
   ],
   "source": [
    "def test_score_fn():\n",
    "    # 1. Полное совпадение\n",
    "    gold = [\"Brexit\", \"Борис Джонсон\"]\n",
    "    pred = [\"brexit\", \"борис джонсон\"]\n",
    "    assert abs(score_fn(gold, pred) - 1.0) < 1e-6, \"Тест 1 не прошел\"\n",
    "\n",
    "    # 2. Частичное совпадение\n",
    "    gold = [\"Brexit\", \"Мэй\"]\n",
    "    pred = [\"brexit\"]\n",
    "    expected_f1 = 2 / (1 + 2)\n",
    "    assert abs(score_fn(gold, pred) - expected_f1) < 1e-6, \"Тест 2 не прошел\"\n",
    "\n",
    "    # 3. Нет совпадений\n",
    "    gold = [\"Brexit\", \"Мэй\"]\n",
    "    pred = [\"Барнье\"]\n",
    "    assert score_fn(gold, pred) == 0.0, \"Тест 3 не прошел\"\n",
    "\n",
    "    print(\"Все прошло\")\n",
    "\n",
    "test_score_fn()"
   ]
  },
  {
   "cell_type": "markdown",
   "id": "05baf448-de29-4367-a851-7609d75d05bc",
   "metadata": {},
   "source": [
    "## Задание 6\n",
    "Вычислите метрики для каждой строки в датафрейме. Сагрегируйте результаты а) по каждой сущности, б) по каждому документу. Изобразите результаты на графиках. Какие выводы можно сделать?"
   ]
  },
  {
   "cell_type": "code",
   "execution_count": 36,
   "id": "981db940-0ca7-403a-9983-bf200575a753",
   "metadata": {},
   "outputs": [],
   "source": [
    "df_grouped['metric'] = 0"
   ]
  },
  {
   "cell_type": "code",
   "execution_count": 40,
   "id": "1cf804e0-6c10-461e-ade0-34d1b925479e",
   "metadata": {},
   "outputs": [
    {
     "data": {
      "text/html": [
       "<div>\n",
       "<style scoped>\n",
       "    .dataframe tbody tr th:only-of-type {\n",
       "        vertical-align: middle;\n",
       "    }\n",
       "\n",
       "    .dataframe tbody tr th {\n",
       "        vertical-align: top;\n",
       "    }\n",
       "\n",
       "    .dataframe thead th {\n",
       "        text-align: right;\n",
       "    }\n",
       "</style>\n",
       "<table border=\"1\" class=\"dataframe\">\n",
       "  <thead>\n",
       "    <tr style=\"text-align: right;\">\n",
       "      <th></th>\n",
       "      <th>document_id</th>\n",
       "      <th>entity</th>\n",
       "      <th>document_text</th>\n",
       "      <th>gold_answers</th>\n",
       "      <th>ans</th>\n",
       "      <th>metric</th>\n",
       "    </tr>\n",
       "  </thead>\n",
       "  <tbody>\n",
       "    <tr>\n",
       "      <th>0</th>\n",
       "      <td>brexit_ru.txt_file_10</td>\n",
       "      <td>EVT</td>\n",
       "      <td>Тереза Мэй рассчитывает усидеть в седле до зав...</td>\n",
       "      <td>[Brexit, брекзит, брексит]</td>\n",
       "      <td>[Brexit, Конференция партии тори, Саммит Еврос...</td>\n",
       "      <td>0.250000</td>\n",
       "    </tr>\n",
       "    <tr>\n",
       "      <th>1</th>\n",
       "      <td>brexit_ru.txt_file_10</td>\n",
       "      <td>LOC</td>\n",
       "      <td>Тереза Мэй рассчитывает усидеть в седле до зав...</td>\n",
       "      <td>[Альбион, Британия, Брюссель, Европа, Ла-Манш,...</td>\n",
       "      <td>[Великобритания, Северная Ирландия, Лондон, Ал...</td>\n",
       "      <td>0.470588</td>\n",
       "    </tr>\n",
       "    <tr>\n",
       "      <th>2</th>\n",
       "      <td>brexit_ru.txt_file_10</td>\n",
       "      <td>ORG</td>\n",
       "      <td>Тереза Мэй рассчитывает усидеть в седле до зав...</td>\n",
       "      <td>[ЕС, Еврокомиссия, Европейский, Евросоюз, Конс...</td>\n",
       "      <td>[Партия тори, МОТ, МВФ, Еврокомиссия, Европейс...</td>\n",
       "      <td>0.235294</td>\n",
       "    </tr>\n",
       "    <tr>\n",
       "      <th>3</th>\n",
       "      <td>brexit_ru.txt_file_10</td>\n",
       "      <td>PER</td>\n",
       "      <td>Тереза Мэй рассчитывает усидеть в седле до зав...</td>\n",
       "      <td>[Борис Джонсон, Джонсон, Мишель Барнье, Мэй, С...</td>\n",
       "      <td>[Тереза Мэй, Борис Джонсон, Мишель Барнье, Себ...</td>\n",
       "      <td>0.666667</td>\n",
       "    </tr>\n",
       "    <tr>\n",
       "      <th>4</th>\n",
       "      <td>brexit_ru.txt_file_1000</td>\n",
       "      <td>EVT</td>\n",
       "      <td>Подробности.ua: Третий за сутки: Борис Джонсон...</td>\n",
       "      <td>[Brexit]</td>\n",
       "      <td>[Отставка Бориса Джонсона, Отставка Дэвида Дэв...</td>\n",
       "      <td>0.000000</td>\n",
       "    </tr>\n",
       "  </tbody>\n",
       "</table>\n",
       "</div>"
      ],
      "text/plain": [
       "               document_id entity  \\\n",
       "0    brexit_ru.txt_file_10    EVT   \n",
       "1    brexit_ru.txt_file_10    LOC   \n",
       "2    brexit_ru.txt_file_10    ORG   \n",
       "3    brexit_ru.txt_file_10    PER   \n",
       "4  brexit_ru.txt_file_1000    EVT   \n",
       "\n",
       "                                       document_text  \\\n",
       "0  Тереза Мэй рассчитывает усидеть в седле до зав...   \n",
       "1  Тереза Мэй рассчитывает усидеть в седле до зав...   \n",
       "2  Тереза Мэй рассчитывает усидеть в седле до зав...   \n",
       "3  Тереза Мэй рассчитывает усидеть в седле до зав...   \n",
       "4  Подробности.ua: Третий за сутки: Борис Джонсон...   \n",
       "\n",
       "                                        gold_answers  \\\n",
       "0                         [Brexit, брекзит, брексит]   \n",
       "1  [Альбион, Британия, Брюссель, Европа, Ла-Манш,...   \n",
       "2  [ЕС, Еврокомиссия, Европейский, Евросоюз, Конс...   \n",
       "3  [Борис Джонсон, Джонсон, Мишель Барнье, Мэй, С...   \n",
       "4                                           [Brexit]   \n",
       "\n",
       "                                                 ans    metric  \n",
       "0  [Brexit, Конференция партии тори, Саммит Еврос...  0.250000  \n",
       "1  [Великобритания, Северная Ирландия, Лондон, Ал...  0.470588  \n",
       "2  [Партия тори, МОТ, МВФ, Еврокомиссия, Европейс...  0.235294  \n",
       "3  [Тереза Мэй, Борис Джонсон, Мишель Барнье, Себ...  0.666667  \n",
       "4  [Отставка Бориса Джонсона, Отставка Дэвида Дэв...  0.000000  "
      ]
     },
     "execution_count": 40,
     "metadata": {},
     "output_type": "execute_result"
    }
   ],
   "source": [
    "for i in range(df_grouped.shape[0]):\n",
    "    df_grouped['metric'][i] = score_fn(df_grouped['gold_answers'][i], df_grouped['ans'][i])\n",
    "df_grouped.head()"
   ]
  },
  {
   "cell_type": "code",
   "execution_count": 42,
   "id": "c463d5d2-7d5a-419a-9f77-9c68cf756e8e",
   "metadata": {},
   "outputs": [
    {
     "data": {
      "text/plain": [
       "count    40.000000\n",
       "mean      0.398415\n",
       "std       0.329993\n",
       "min       0.000000\n",
       "25%       0.000000\n",
       "50%       0.457516\n",
       "75%       0.666667\n",
       "max       1.000000\n",
       "Name: metric, dtype: float64"
      ]
     },
     "execution_count": 42,
     "metadata": {},
     "output_type": "execute_result"
    }
   ],
   "source": [
    "df_grouped['metric'].describe()"
   ]
  },
  {
   "cell_type": "code",
   "execution_count": 44,
   "id": "34288cbd-a34e-4654-a169-c503978fc044",
   "metadata": {},
   "outputs": [],
   "source": [
    "entity_metrics = df_grouped.groupby('entity')['metric'].mean().reset_index()\n",
    "document_metrics = df_grouped.groupby('document_id')['metric'].mean().reset_index()"
   ]
  },
  {
   "cell_type": "code",
   "execution_count": 46,
   "id": "9f5b4346-0213-4a71-8b33-d5d735ac4304",
   "metadata": {},
   "outputs": [
    {
     "data": {
      "image/png": "[encoded data removed]",
      "text/plain": [
       "<Figure size 1000x600 with 1 Axes>"
      ]
     },
     "metadata": {},
     "output_type": "display_data"
    }
   ],
   "source": [
    "plt.figure(figsize=(10, 6))\n",
    "plt.bar(entity_metrics['entity'], entity_metrics['metric'], color='skyblue')\n",
    "plt.title('Средняя метрика по типам сущностей')\n",
    "plt.xlabel('Тип сущности')\n",
    "plt.ylabel('Среднее значение метрики')\n",
    "plt.ylim(0, 1.0)\n",
    "plt.grid(axis='y', linestyle='--', alpha=0.7)\n",
    "plt.tight_layout()\n",
    "plt.show()"
   ]
  },
  {
   "cell_type": "code",
   "execution_count": 48,
   "id": "f396e48b-ddff-4b34-bea5-b73e9a763619",
   "metadata": {},
   "outputs": [
    {
     "data": {
      "image/png": "[encoded data removed]",
      "text/plain": [
       "<Figure size 1200x600 with 1 Axes>"
      ]
     },
     "metadata": {},
     "output_type": "display_data"
    },
    {
     "name": "stdout",
     "output_type": "stream",
     "text": [
      "\n",
      "Соответствие номеров документов и их ID:\n",
      "Документ 1: brexit_ru.txt_file_10\n",
      "Документ 2: brexit_ru.txt_file_1000\n",
      "Документ 3: brexit_ru.txt_file_1001\n",
      "Документ 4: brexit_ru.txt_file_1002\n",
      "Документ 5: brexit_ru.txt_file_1003\n",
      "Документ 6: brexit_ru.txt_file_1004\n",
      "Документ 7: brexit_ru.txt_file_1006\n",
      "Документ 8: brexit_ru.txt_file_1011\n",
      "Документ 9: brexit_ru.txt_file_1017\n"
     ]
    }
   ],
   "source": [
    "plt.figure(figsize=(12, 6))\n",
    "\n",
    "doc_ids = document_metrics['document_id'].unique()\n",
    "doc_labels = [f'Doc {i+1}' for i in range(len(doc_ids))]\n",
    "\n",
    "plt.bar(range(len(document_metrics)), document_metrics['metric'], color='salmon')\n",
    "plt.title('Средняя метрика по документам', fontsize=14)\n",
    "plt.ylabel('F1-мера', fontsize=12)\n",
    "plt.ylim(0, 1.0)\n",
    "plt.grid(axis='y', linestyle='--', alpha=0.7)\n",
    "plt.xticks(range(len(document_metrics)), doc_labels, rotation=0)\n",
    "\n",
    "for i, value in enumerate(document_metrics['metric']):\n",
    "    plt.text(i, value + 0.02, f'{value:.2f}', \n",
    "             ha='center', va='bottom', fontsize=10)\n",
    "\n",
    "plt.gca().spines['top'].set_visible(False)\n",
    "plt.gca().spines['right'].set_visible(False)\n",
    "\n",
    "plt.tight_layout()\n",
    "plt.show()\n",
    "\n",
    "print(\"\\nСоответствие номеров документов и их ID:\")\n",
    "for i, doc_id in enumerate(doc_ids):\n",
    "    print(f\"Документ {i+1}: {doc_id}\")"
   ]
  },
  {
   "cell_type": "markdown",
   "id": "819c6d8f-a332-4801-aac3-73ab37fa3df2",
   "metadata": {},
   "source": [
    "На основе полученных данных видно, что:\n",
    "\n",
    "1) Для сущности PRO модель ни разу не ответила правильно, что связано с недостатком промта: возможно, нужно было привести пример такой сущности и указать как именно ее писать\n",
    "2) Почти по всем файлам в среднем выдает одинаковые значения на метриках кроме файла 1004"
   ]
  },
  {
   "cell_type": "markdown",
   "id": "c7894c07-7c9c-4c03-8aa0-108e9ca9b4e9",
   "metadata": {},
   "source": [
    "## Задание 7\n",
    "Есть ли зависимость метрик от длины документа? Постройте графики, чтобы ответить на вопрос."
   ]
  },
  {
   "cell_type": "code",
   "execution_count": 50,
   "id": "750c0984-8090-4f49-86db-6bcaf197cdfe",
   "metadata": {},
   "outputs": [],
   "source": [
    "df_grouped['doc_length_chars'] = df_grouped['document_text'].apply(len)\n",
    "df_grouped['doc_length_words'] = df_grouped['document_text'].apply(lambda x: len(x.split()))"
   ]
  },
  {
   "cell_type": "code",
   "execution_count": 52,
   "id": "cca7fa57-a5e7-4526-8344-6490369200e9",
   "metadata": {},
   "outputs": [],
   "source": [
    "document_analysis = df_grouped.groupby('document_id').agg({\n",
    "    'metric': 'mean',\n",
    "    'doc_length_chars': 'first',\n",
    "    'doc_length_words': 'first'\n",
    "}).reset_index()"
   ]
  },
  {
   "cell_type": "code",
   "execution_count": 54,
   "id": "72ea0f3e-739f-415d-b17f-76881fa5892d",
   "metadata": {},
   "outputs": [
    {
     "data": {
      "image/png": "[encoded data removed]",
      "text/plain": [
       "<Figure size 1000x600 with 1 Axes>"
      ]
     },
     "metadata": {},
     "output_type": "display_data"
    }
   ],
   "source": [
    "plt.figure(figsize=(10, 6))\n",
    "plt.scatter(\n",
    "    document_analysis['doc_length_words'], \n",
    "    document_analysis['metric'],\n",
    "    s=100,\n",
    "    alpha=0.7,\n",
    "    color='royalblue'\n",
    ")\n",
    "\n",
    "z = np.polyfit(document_analysis['doc_length_words'], document_analysis['metric'], 1)\n",
    "p = np.poly1d(z)\n",
    "plt.plot(\n",
    "    document_analysis['doc_length_words'], \n",
    "    p(document_analysis['doc_length_words']), \n",
    "    linewidth=2\n",
    ")\n",
    "\n",
    "plt.title('Зависимость F1-меры от длины документа (в словах)', fontsize=14)\n",
    "plt.xlabel('Длина документа (слов)', fontsize=12)\n",
    "plt.ylabel('Средняя F1-мера', fontsize=12)\n",
    "plt.grid(alpha=0.2)\n",
    "plt.tight_layout()\n",
    "plt.show()"
   ]
  },
  {
   "cell_type": "code",
   "execution_count": 56,
   "id": "5432b994-a2ff-4ede-a2fa-106e5c0fe928",
   "metadata": {},
   "outputs": [
    {
     "data": {
      "image/png": "[encoded data removed]",
      "text/plain": [
       "<Figure size 1000x600 with 1 Axes>"
      ]
     },
     "metadata": {},
     "output_type": "display_data"
    }
   ],
   "source": [
    "plt.figure(figsize=(10, 6))\n",
    "plt.scatter(\n",
    "    document_analysis['doc_length_chars'], \n",
    "    document_analysis['metric'],\n",
    "    s=100,\n",
    "    alpha=0.7,\n",
    "    color='green'\n",
    ")\n",
    "\n",
    "z = np.polyfit(document_analysis['doc_length_chars'], document_analysis['metric'], 1)\n",
    "p = np.poly1d(z)\n",
    "plt.plot(\n",
    "    document_analysis['doc_length_chars'], \n",
    "    p(document_analysis['doc_length_chars']), \n",
    "    linewidth=2\n",
    ")\n",
    "\n",
    "plt.title('Зависимость F1-меры от длины документа (в символах)', fontsize=14)\n",
    "plt.xlabel('Длина документа (символов)', fontsize=12)\n",
    "plt.ylabel('Средняя F1-мера', fontsize=12)\n",
    "plt.grid(alpha=0.2)\n",
    "plt.tight_layout()\n",
    "plt.show()"
   ]
  },
  {
   "cell_type": "code",
   "execution_count": 58,
   "id": "1539c238-b353-43cc-8e0e-e88c47d8a2c1",
   "metadata": {},
   "outputs": [
    {
     "name": "stdout",
     "output_type": "stream",
     "text": [
      "Корреляция с длиной в словах: -0.100\n",
      "Корреляция с длиной в символах: -0.086\n"
     ]
    }
   ],
   "source": [
    "corr_words = document_analysis['doc_length_words'].corr(document_analysis['metric'])\n",
    "corr_chars = document_analysis['doc_length_chars'].corr(document_analysis['metric'])\n",
    "\n",
    "print(f\"Корреляция с длиной в словах: {corr_words:.3f}\")\n",
    "print(f\"Корреляция с длиной в символах: {corr_chars:.3f}\")"
   ]
  },
  {
   "cell_type": "markdown",
   "id": "718c065d-c5ab-416c-a9a7-3d21fa5e5b37",
   "metadata": {},
   "source": [
    "Как мы видим по корреляции и по графикам, связь между длиной документа и метрикой почти отсутствует. Однако это зависит еще и от промта: при другой вариации промта я получал плохую линейную зависимость, но в такой вариации как сейчас зависимость отсутствует"
   ]
  },
  {
   "cell_type": "markdown",
   "id": "e844b70e-3973-4cfa-8ee1-21951a28f8b9",
   "metadata": {},
   "source": [
    "## Задание 8\n",
    "Проведите анализ ошибок. Когда модель чаще отвечает правильно, а когда ошибается? Предложите варианты, как повысить метрики."
   ]
  },
  {
   "cell_type": "markdown",
   "id": "971833d7-7df5-4fe0-b411-df77709f232d",
   "metadata": {},
   "source": [
    "С учетом графиков можно провести анализ ошибок и выявить плюсы и минусы: \n",
    "\n",
    "Плюсы:\n",
    "\n",
    "1) Модель хорошо отвечает, когда сущности четко выражены и многократно упоминаются в тексте\n",
    "2) Контекст в тексте выделен и легко понятен\n",
    "3) Хорошо обработанный список в gold_answers\n",
    "\n",
    "Минусы:\n",
    "\n",
    "1) Плохо сделанный список верных ответов: основная проблематика заключается в том. что есть список [Brexit, брекзит, брексит] и для ответа модели в виде брекзит по хорошему нужно бы получать метрику 1, так как модель все верно определила, однако F1 мера будет 0.5. Тут появляется желание сделать метрику по попаданиям в список, однако так мы уходим от другой, более важной проблемы: если в списке содержится несколько сущностей, относящихся к одному классу, то начнем сильно завышать метрику. Оптимальный результат тут - ручная обработка финального датасета, оставляя только те слова, которые пересекаются с ответом модели в нужных формах. Также еще одно решение: брать эмбеддинги и смотреть на их близость к ответам модели (например косинусная близость) и на основе этого выдавать уже сами значения метрики.\n",
    "2) Модель может не вставлять сокращения, если они не использовались в тексте\n",
    "3) Плохо распознает слова, которые были использованы один раз или в целом мало относительно текста\n",
    "\n",
    "Повышение метрики:\n",
    "\n",
    "1) Улучшение промта и его автоматизация для запросов (чтобы не копировать ответы и просто сразу смотреть на результаты)\n",
    "2) Векторные представления слов, как описано в первом пункте минусов\n",
    "3) В целом улучшение gold_answers и аккуратная работа с разным вариантом написания одних и тех же слов "
   ]
  },
  {
   "cell_type": "markdown",
   "id": "29b34150-8b88-4601-a8a7-27eddc684f10",
   "metadata": {},
   "source": [
    "## Задание 9\n",
    "Сделайте выводы по всему исследованию. Напишите, чему научились и что нового попробовали."
   ]
  },
  {
   "cell_type": "markdown",
   "id": "5155a8b5-07d5-4b62-9114-274554ee5eee",
   "metadata": {},
   "source": [
    "В ходе работы я провел полный цикл обработки и анализа данных по распознаванию сущностей в различных текстах новостей. Основные выводы - в предыдущем задании. Основные сложности были при обработке текстовых файлов и сырых данных, а также при подборе корректного промта для данной задачи. В целом, в таком виде с задачей NER я до этого не встречался, поэтому было очень интересно попробовать. "
   ]
  }
 ],
 "metadata": {
  "kernelspec": {
   "display_name": "Python [conda env:base] *",
   "language": "python",
   "name": "conda-base-py"
  },
  "language_info": {
   "codemirror_mode": {
    "name": "ipython",
    "version": 3
   },
   "file_extension": ".py",
   "mimetype": "text/x-python",
   "name": "python",
   "nbconvert_exporter": "python",
   "pygments_lexer": "ipython3",
   "version": "3.12.7"
  }
 },
 "nbformat": 4,
 "nbformat_minor": 5
}
